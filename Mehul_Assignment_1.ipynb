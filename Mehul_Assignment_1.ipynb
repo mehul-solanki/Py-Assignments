{
  "nbformat": 4,
  "nbformat_minor": 0,
  "metadata": {
    "colab": {
      "name": "Mehul Assignment 1.ipynb",
      "provenance": [],
      "collapsed_sections": []
    },
    "kernelspec": {
      "name": "python3",
      "display_name": "Python 3"
    }
  },
  "cells": [
    {
      "cell_type": "code",
      "metadata": {
        "id": "l0hnaTPZVznu",
        "colab_type": "code",
        "colab": {}
      },
      "source": [
        "# Task 1.1\n",
        "#Coding in Google Colab since it's office laptop. have raised the requested installing Anaconda."
      ],
      "execution_count": 0,
      "outputs": []
    },
    {
      "cell_type": "code",
      "metadata": {
        "id": "hy3HOeo3pY_9",
        "colab_type": "code",
        "colab": {
          "base_uri": "https://localhost:8080/",
          "height": 55
        },
        "outputId": "a539790d-22a8-41b5-a3d1-1847c6a70875"
      },
      "source": [
        "# Task 1.2\n",
        "a=[] # Define array\n",
        "l = range(2000, 3201)\n",
        "for x in l:  \n",
        "  if (x%7==0) and (x%5!=0):\n",
        "    a.append(str(x))\n",
        "print (a)\n"
      ],
      "execution_count": 130,
      "outputs": [
        {
          "output_type": "stream",
          "text": [
            "['2002', '2009', '2016', '2023', '2037', '2044', '2051', '2058', '2072', '2079', '2086', '2093', '2107', '2114', '2121', '2128', '2142', '2149', '2156', '2163', '2177', '2184', '2191', '2198', '2212', '2219', '2226', '2233', '2247', '2254', '2261', '2268', '2282', '2289', '2296', '2303', '2317', '2324', '2331', '2338', '2352', '2359', '2366', '2373', '2387', '2394', '2401', '2408', '2422', '2429', '2436', '2443', '2457', '2464', '2471', '2478', '2492', '2499', '2506', '2513', '2527', '2534', '2541', '2548', '2562', '2569', '2576', '2583', '2597', '2604', '2611', '2618', '2632', '2639', '2646', '2653', '2667', '2674', '2681', '2688', '2702', '2709', '2716', '2723', '2737', '2744', '2751', '2758', '2772', '2779', '2786', '2793', '2807', '2814', '2821', '2828', '2842', '2849', '2856', '2863', '2877', '2884', '2891', '2898', '2912', '2919', '2926', '2933', '2947', '2954', '2961', '2968', '2982', '2989', '2996', '3003', '3017', '3024', '3031', '3038', '3052', '3059', '3066', '3073', '3087', '3094', '3101', '3108', '3122', '3129', '3136', '3143', '3157', '3164', '3171', '3178', '3192', '3199']\n"
          ],
          "name": "stdout"
        }
      ]
    },
    {
      "cell_type": "code",
      "metadata": {
        "id": "Ptt5Oqrj0NOv",
        "colab_type": "code",
        "colab": {
          "base_uri": "https://localhost:8080/",
          "height": 90
        },
        "outputId": "1f7b4f46-85e2-4e97-e388-761a894c0f2a"
      },
      "source": [
        "# Task 1.3\n",
        "firstName = input(\"Enter your firstname: \")\n",
        "lastName = input(\"Enter your lastName: \")\n",
        "\n",
        "print(\"Output is :\")\n",
        "print(firstName[::-1] +\" \" + lastName[::-1])"
      ],
      "execution_count": 192,
      "outputs": [
        {
          "output_type": "stream",
          "text": [
            "Enter your firstname: abc\n",
            "Enter your lastName: xyz\n",
            "Output is :\n",
            "cba zyx\n"
          ],
          "name": "stdout"
        }
      ]
    },
    {
      "cell_type": "code",
      "metadata": {
        "id": "mzEimZOyw1kJ",
        "colab_type": "code",
        "colab": {
          "base_uri": "https://localhost:8080/",
          "height": 35
        },
        "outputId": "ea382f55-4871-4053-905c-ec4cf525733a"
      },
      "source": [
        "# Task 1.4\n",
        "daimeter = 12 # \n",
        "pi = 3.1416 # Pie constant value\n",
        "r = daimeter/2 #Retreive radius\n",
        "v = (4/3)* pi * (r**3)\n",
        "print (v) # calculating Volume\n"
      ],
      "execution_count": 132,
      "outputs": [
        {
          "output_type": "stream",
          "text": [
            "904.7807999999999\n"
          ],
          "name": "stdout"
        }
      ]
    },
    {
      "cell_type": "code",
      "metadata": {
        "id": "VCCeUj-A0lIZ",
        "colab_type": "code",
        "colab": {
          "base_uri": "https://localhost:8080/",
          "height": 54
        },
        "outputId": "24742151-eec1-4b6d-a89c-2fbe561fb21f"
      },
      "source": [
        "# Task 2.1\n",
        "val = input(\"Add numbers with ',':\")\n",
        "a=[val]\n",
        "print (val)"
      ],
      "execution_count": 133,
      "outputs": [
        {
          "output_type": "stream",
          "text": [
            "Add numbers with ',':1,2,3,4,4\n",
            "1,2,3,4,4\n"
          ],
          "name": "stdout"
        }
      ]
    },
    {
      "cell_type": "code",
      "metadata": {
        "id": "YuMhGSksGvK0",
        "colab_type": "code",
        "colab": {
          "base_uri": "https://localhost:8080/",
          "height": 182
        },
        "outputId": "ed189f85-e984-45e4-f03c-c1b97bd3d9a2"
      },
      "source": [
        "# Task 2.2\n",
        "n = 5\n",
        "array = []\n",
        "for j in range(1,n+1):\n",
        "    array.append(j)\n",
        "    print(\"*\"*j)\n",
        "for i in range(n-1,0,-1):\n",
        "    array.append(i)\n",
        "    print(\"*\"*i)"
      ],
      "execution_count": 190,
      "outputs": [
        {
          "output_type": "stream",
          "text": [
            "*\n",
            "**\n",
            "***\n",
            "****\n",
            "*****\n",
            "****\n",
            "***\n",
            "**\n",
            "*\n"
          ],
          "name": "stdout"
        }
      ]
    },
    {
      "cell_type": "code",
      "metadata": {
        "id": "24Vn9iQjQsI4",
        "colab_type": "code",
        "colab": {
          "base_uri": "https://localhost:8080/",
          "height": 54
        },
        "outputId": "05ad03f2-30aa-4bd6-dac6-9ea7d79dbff5"
      },
      "source": [
        "# Task 2.3\n",
        "l = input(\"Enter Text: \")\n",
        "\n",
        "print(\"Output is :\")\n",
        "print(l[::-1])"
      ],
      "execution_count": 191,
      "outputs": [
        {
          "output_type": "stream",
          "text": [
            "Output is :\n",
            "luhem\n"
          ],
          "name": "stdout"
        }
      ]
    },
    {
      "cell_type": "code",
      "metadata": {
        "id": "prpGTxjjSTqs",
        "colab_type": "code",
        "colab": {
          "base_uri": "https://localhost:8080/",
          "height": 164
        },
        "outputId": "63b51e18-290a-4373-c0a0-f0f53897086a"
      },
      "source": [
        "# Task 2.4\n",
        "a=\"WE, THE PEOPLE OF INDIA,\"\n",
        "b=\"having solemnly resolved to constitute India into a SOVEREIGN, !\"\n",
        "c=\"SOCIALIST, SECULAR, DEMOCRATIC REPUBLIC\"\n",
        "d=\"and to secure to all its citizens\"\n",
        "indent=\"\\n\\t\"\n",
        "#print(a+\"\\n\\t\"+b+\"\\n\\t\\t\"+c+\"\\n\\t\\t \"+d) # Hard cord space\n",
        "print(a+indent+b+indent+\"\\t\"+c+indent+\"\\t \"+d)"
      ],
      "execution_count": 216,
      "outputs": [
        {
          "output_type": "stream",
          "text": [
            "WE, THE PEOPLE OF INDIA,\n",
            "\thaving solemnly resolved to constitute India into a SOVEREIGN, !\n",
            "\t\tSOCIALIST, SECULAR, DEMOCRATIC REPUBLIC\n",
            "\t\t and to secure to all its citizens\n",
            "WE, THE PEOPLE OF INDIA,\n",
            "\thaving solemnly resolved to constitute India into a SOVEREIGN, !\n",
            "\t\tSOCIALIST, SECULAR, DEMOCRATIC REPUBLIC\n",
            "\t\t and to secure to all its citizens\n"
          ],
          "name": "stdout"
        }
      ]
    }
  ]
}