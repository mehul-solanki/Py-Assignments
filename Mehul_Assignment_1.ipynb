{
  "nbformat": 4,
  "nbformat_minor": 0,
  "metadata": {
    "colab": {
      "name": "Mehul_Assignment_1.ipynb",
      "provenance": [],
      "collapsed_sections": []
    },
    "kernelspec": {
      "name": "python3",
      "display_name": "Python 3"
    }
  },
  "cells": [
    {
      "cell_type": "code",
      "metadata": {
        "id": "l0hnaTPZVznu",
        "colab_type": "code",
        "colab": {}
      },
      "source": [
        "# Task 1.1\n",
        "#Coding in Google Colab since it's office laptop. have raised the requested installing Anaconda."
      ],
      "execution_count": 0,
      "outputs": []
    },
    {
      "cell_type": "code",
      "metadata": {
        "id": "hy3HOeo3pY_9",
        "colab_type": "code",
        "outputId": "a539790d-22a8-41b5-a3d1-1847c6a70875",
        "colab": {
          "base_uri": "https://localhost:8080/",
          "height": 55
        }
      },
      "source": [
        "# Task 1.2\n",
        "#Write a program which will find all such numbers which are divisible by 7 but are not a multiple\n",
        "#of 5, between 2000 and 3200 (both included). The numbers obtained should be printed in a\n",
        "#comma-separated sequence on a single line.\n",
        "\n",
        "a=[] # Define array\n",
        "l = range(2000, 3201)\n",
        "for x in l:  \n",
        "  if (x%7==0) and (x%5!=0):\n",
        "    a.append(str(x))\n",
        "print (a)\n"
      ],
      "execution_count": 0,
      "outputs": [
        {
          "output_type": "stream",
          "text": [
            "['2002', '2009', '2016', '2023', '2037', '2044', '2051', '2058', '2072', '2079', '2086', '2093', '2107', '2114', '2121', '2128', '2142', '2149', '2156', '2163', '2177', '2184', '2191', '2198', '2212', '2219', '2226', '2233', '2247', '2254', '2261', '2268', '2282', '2289', '2296', '2303', '2317', '2324', '2331', '2338', '2352', '2359', '2366', '2373', '2387', '2394', '2401', '2408', '2422', '2429', '2436', '2443', '2457', '2464', '2471', '2478', '2492', '2499', '2506', '2513', '2527', '2534', '2541', '2548', '2562', '2569', '2576', '2583', '2597', '2604', '2611', '2618', '2632', '2639', '2646', '2653', '2667', '2674', '2681', '2688', '2702', '2709', '2716', '2723', '2737', '2744', '2751', '2758', '2772', '2779', '2786', '2793', '2807', '2814', '2821', '2828', '2842', '2849', '2856', '2863', '2877', '2884', '2891', '2898', '2912', '2919', '2926', '2933', '2947', '2954', '2961', '2968', '2982', '2989', '2996', '3003', '3017', '3024', '3031', '3038', '3052', '3059', '3066', '3073', '3087', '3094', '3101', '3108', '3122', '3129', '3136', '3143', '3157', '3164', '3171', '3178', '3192', '3199']\n"
          ],
          "name": "stdout"
        }
      ]
    },
    {
      "cell_type": "code",
      "metadata": {
        "id": "Ptt5Oqrj0NOv",
        "colab_type": "code",
        "outputId": "60a7765d-1da9-42ed-eb71-c07dfb8ed254",
        "colab": {
          "base_uri": "https://localhost:8080/",
          "height": 90
        }
      },
      "source": [
        "# Task 1.3\n",
        "# Write a Python program to accept the user's first and last name and then getting them printed in\n",
        "# the the reverse order with a space between first name and last name.\n",
        "\n",
        "firstName = input(\"Enter your firstname: \")\n",
        "lastName = input(\"Enter your lastName: \")\n",
        "\n",
        "print(\"Output is :\")\n",
        "print(firstName[::-1] +\" \" + lastName[::-1])"
      ],
      "execution_count": 0,
      "outputs": [
        {
          "output_type": "stream",
          "text": [
            "Enter your firstname: Mehul\n",
            "Enter your lastName: Solanki\n",
            "Output is :\n",
            "luheM iknaloS\n"
          ],
          "name": "stdout"
        }
      ]
    },
    {
      "cell_type": "code",
      "metadata": {
        "id": "mzEimZOyw1kJ",
        "colab_type": "code",
        "outputId": "ea382f55-4871-4053-905c-ec4cf525733a",
        "colab": {
          "base_uri": "https://localhost:8080/",
          "height": 35
        }
      },
      "source": [
        "# Task 1.4\n",
        "# Write a Python program to find the volume of a sphere with diameter 12 cm.\n",
        "# Formula: V=4/3 * π * r 3\n",
        "\n",
        "daimeter = 12 # Define Diameter\n",
        "pi = 3.1416 # Pie constant value\n",
        "r = daimeter/2 #Retreive radius\n",
        "v = (4/3)* pi * (r**3)\n",
        "print (v) # calculating Volume\n"
      ],
      "execution_count": 0,
      "outputs": [
        {
          "output_type": "stream",
          "text": [
            "904.7807999999999\n"
          ],
          "name": "stdout"
        }
      ]
    },
    {
      "cell_type": "code",
      "metadata": {
        "id": "VCCeUj-A0lIZ",
        "colab_type": "code",
        "outputId": "1719773a-3e41-4d9e-e6d5-6f71c8618d06",
        "colab": {
          "base_uri": "https://localhost:8080/",
          "height": 54
        }
      },
      "source": [
        "# Task 2.1\n",
        "# Write a program which accepts a sequence of comma-separated numbers from console and generate a list.\n",
        "\n",
        "val = input(\"Add numbers with ',':\")\n",
        "a=str(val)\n",
        "b = a.split(',')\n",
        "b=list(b)\n",
        "print (b)\n",
        "#print(a.split(',')) # Alternate solution without variable b"
      ],
      "execution_count": 0,
      "outputs": [
        {
          "output_type": "stream",
          "text": [
            "Add numbers with ',':1,2,22,4,5\n",
            "['1', '2', '22', '4', '5']\n"
          ],
          "name": "stdout"
        }
      ]
    },
    {
      "cell_type": "code",
      "metadata": {
        "id": "YuMhGSksGvK0",
        "colab_type": "code",
        "outputId": "ed189f85-e984-45e4-f03c-c1b97bd3d9a2",
        "colab": {
          "base_uri": "https://localhost:8080/",
          "height": 182
        }
      },
      "source": [
        "# Task 2.2\n",
        "Create the below pattern using nested for loop in Python.\n",
        "\n",
        "n = 5\n",
        "array = []\n",
        "for j in range(1,n+1):\n",
        "    array.append(j)\n",
        "    print(\"*\"*j)\n",
        "for i in range(n-1,0,-1):\n",
        "    array.append(i)\n",
        "    print(\"*\"*i)"
      ],
      "execution_count": 0,
      "outputs": [
        {
          "output_type": "stream",
          "text": [
            "*\n",
            "**\n",
            "***\n",
            "****\n",
            "*****\n",
            "****\n",
            "***\n",
            "**\n",
            "*\n"
          ],
          "name": "stdout"
        }
      ]
    },
    {
      "cell_type": "code",
      "metadata": {
        "id": "24Vn9iQjQsI4",
        "colab_type": "code",
        "outputId": "fd046947-6168-4d78-8556-99850833f499",
        "colab": {
          "base_uri": "https://localhost:8080/",
          "height": 72
        }
      },
      "source": [
        "# Task 2.3\n",
        "# Write a Python program to reverse a word after accepting the input from the user.\n",
        "# Sample Output:\n",
        "# Input word: AcadGild\n",
        "# Output: dilGdacA\n",
        "\n",
        "l = input(\"Enter Text: \")\n",
        "\n",
        "print(\"Output is :\")\n",
        "print(l[::-1])"
      ],
      "execution_count": 0,
      "outputs": [
        {
          "output_type": "stream",
          "text": [
            "Enter Text: this is the text added\n",
            "Output is :\n",
            "dedda txet eht si siht\n"
          ],
          "name": "stdout"
        }
      ]
    },
    {
      "cell_type": "code",
      "metadata": {
        "id": "prpGTxjjSTqs",
        "colab_type": "code",
        "outputId": "7a38ae74-cb2a-486e-e3b9-c163f7de5ee3",
        "colab": {
          "base_uri": "https://localhost:8080/",
          "height": 90
        }
      },
      "source": [
        "# Task 2.4\n",
        "# Write a Python Program to print the given string in the format specified in the sample output.\n",
        "# WE, THE PEOPLE OF INDIA, having solemnly resolved to constitute India into a\n",
        "# SOVEREIGN, SOCIALIST, SECULAR, DEMOCRATIC REPUBLIC and to secure to all\n",
        "# its citizens\n",
        "\n",
        "# Sample Output:\n",
        "# WE, THE PEOPLE OF INDIA,\n",
        "#   having solemnly resolved to constitute India into a SOVEREIGN, !\n",
        "#     SOCIALIST, SECULAR, DEMOCRATIC REPUBLIC\n",
        "#      and to secure to all its citizens\n",
        "\n",
        "a=\"WE, THE PEOPLE OF INDIA,\"\n",
        "b=\"having solemnly resolved to constitute India into a SOVEREIGN, !\"\n",
        "c=\"SOCIALIST, SECULAR, DEMOCRATIC REPUBLIC\"\n",
        "d=\"and to secure to all its citizens\"\n",
        "indent=\"\\n\\t\"\n",
        "#print(a+\"\\n\\t\"+b+\"\\n\\t\\t\"+c+\"\\n\\t\\t \"+d) # Hard cord space\n",
        "print(a+indent+b+indent+\"\\t\"+c+indent+\"\\t \"+d)"
      ],
      "execution_count": 0,
      "outputs": [
        {
          "output_type": "stream",
          "text": [
            "WE, THE PEOPLE OF INDIA,\n",
            "\thaving solemnly resolved to constitute India into a SOVEREIGN, !\n",
            "\t\tSOCIALIST, SECULAR, DEMOCRATIC REPUBLIC\n",
            "\t\t and to secure to all its citizens\n"
          ],
          "name": "stdout"
        }
      ]
    }
  ]
}